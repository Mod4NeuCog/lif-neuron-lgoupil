{
 "cells": [
  {
   "cell_type": "code",
   "execution_count": 1,
   "outputs": [],
   "source": [
    "import numpy as np\n",
    "import matplotlib.pyplot as plt"
   ],
   "metadata": {
    "collapsed": false,
    "pycharm": {
     "name": "#%%\n"
    }
   }
  },
  {
   "cell_type": "code",
   "execution_count": 66,
   "outputs": [],
   "source": [
    "def sigmoid_function(x, slope=1):\n",
    "    return 1/(1+np.exp(-slope*x))\n",
    "\n",
    "def integrate_and_fire(x, threshold=0.5):\n",
    "    if x>= threshold:\n",
    "        return 0\n",
    "    else:\n",
    "        return x\n",
    "\n",
    "class Neuron:\n",
    "    def __init__(self, sigmoid=True, threshold=0.5):\n",
    "        self.activity = 0               # Its activity. Only useful when the neuron is IF\n",
    "        self.sigmoid = sigmoid          # Determines if the neuron has a sigmoid activtion or is IF\n",
    "        self.threshold = threshold      # The treshold in case of IF\n",
    "        if sigmoid:\n",
    "            self.activation = sigmoid_function\n",
    "        else:\n",
    "            self.activation = integrate_and_fire\n",
    "\n",
    "    def integrate(self, input):         # Integrate the neuron\n",
    "        if self.sigmoid:\n",
    "            self.activity = self.activation(input)\n",
    "        if not self.sigmoid:\n",
    "            self.activity = self.activation(self.activity+input, self.threshold)\n",
    "        return self.activity\n",
    "\n",
    "\n",
    "class Layer:        # A class for stacking the neuron objects\n",
    "    def __init__(self, nb_neurons=16, sigmoid=True, threshold=0.5):\n",
    "        self.neurons = np.zeros(nb_neurons, dtype=object)   # An array with all the neuron objects\n",
    "        for i in range(nb_neurons):\n",
    "            self.neurons[i] = Neuron(sigmoid=sigmoid, threshold=threshold)\n",
    "\n",
    "    def compute(self, inputs):      # Calculating input-wise neuron activation\n",
    "        output = np.zeros(self.neurons.shape[0])\n",
    "        for i in range(self.neurons.shape[0]):\n",
    "            output[i] = self.neurons[i].integrate(inputs[i])\n",
    "        return output\n",
    "\n",
    "\n",
    "class Network:\n",
    "    def __init__(self, nb_inputs, nb_outputs):\n",
    "        self.nb_inputs = nb_inputs\n",
    "        self.nb_outputs = nb_outputs\n",
    "        self.nb_layers = 0\n",
    "        self.size_layers = []\n",
    "        self.size_layers.append(nb_inputs)  # The inputs are considered as a \"ghost\" layer. Doesn't appear in the layer count but does in this list.\n",
    "        self.layers = []                    # Will hold the layer objects\n",
    "        self.weights = []                   # Will hold the weight matrices in order\n",
    "\n",
    "    def add_layer(self, nb_neurons=16, sigmoid=True, threshold=0.5):   # Function to sequentially add a layer of a given size and type\n",
    "        self.nb_layers += 1\n",
    "        self.size_layers.append(nb_neurons)\n",
    "        layer = Layer(nb_neurons, sigmoid=sigmoid, threshold=threshold)\n",
    "        self.layers.append(layer)\n",
    "\n",
    "    def build_weights(self):    # Function to be used after the creation of the layers to instantiate the weights\n",
    "        if self.nb_layers==1:   # In case we only have a single layer. We need it because of our definition of layers. We need to manually add the output layer.\n",
    "            matrix = np.random.random((self.nb_inputs, self.nb_outputs))\n",
    "            self.weights.append(matrix)\n",
    "            return\n",
    "\n",
    "        for i in range(self.nb_layers):\n",
    "            matrix = np.random.random((self.size_layers[i], self.size_layers[i+1]))\n",
    "            self.weights.append(matrix)\n",
    "\n",
    "    def forward_pass(self, inputs):             # Function to compute a forward pass through the network.\n",
    "        # The \"flow\" is the activation vector at each step. It can thus change shape at each layer.\n",
    "        flow = np.dot(inputs,self.weights[0])   # Compute a pass of inputs through the weight matrix.\n",
    "        flow = self.layers[0].compute(flow)     # Run this output through the neuron layer.\n",
    "        if self.nb_layers!=1:                   # We keep iterating if we have more than one layer.\n",
    "            for i in range(self.nb_layers-1):\n",
    "                flow = np.dot(flow,self.weights[i+1])\n",
    "                flow = self.layers[i+1].compute(flow)\n",
    "        return flow\n"
   ],
   "metadata": {
    "collapsed": false,
    "pycharm": {
     "name": "#%%\n"
    }
   }
  },
  {
   "cell_type": "code",
   "execution_count": 69,
   "outputs": [
    {
     "data": {
      "text/plain": "<Figure size 640x480 with 1 Axes>",
      "image/png": "[encoded data removed]"
     },
     "metadata": {},
     "output_type": "display_data"
    }
   ],
   "source": [
    "nb_inputs = 10\n",
    "nb_outputs = 2\n",
    "sigmoid_type = False                                 # If the neurons are sigmoid type or not\n",
    "threshold = 0.7\n",
    "iterations = 20\n",
    "\n",
    "model = Network(nb_inputs, nb_outputs)              # Create the network\n",
    "model.add_layer(nb_outputs, sigmoid=False, threshold=threshold)   # We have to manually add the last layer\n",
    "\n",
    "model.build_weights()                               # Build the weight matrices\n",
    "\n",
    "x = np.linspace(0, 2*np.pi, nb_inputs)\n",
    "input_array = np.sin(x)\n",
    "\n",
    "for i in range(iterations):\n",
    "    output_array = model.forward_pass(input_array)\n",
    "    plt.scatter(output_array[0], output_array[1])\n",
    "    plt.text(output_array[0], output_array[1], i)"
   ],
   "metadata": {
    "collapsed": false,
    "pycharm": {
     "name": "#%%\n"
    }
   }
  },
  {
   "cell_type": "code",
   "execution_count": 21,
   "outputs": [],
   "source": [],
   "metadata": {
    "collapsed": false,
    "pycharm": {
     "name": "#%%\n"
    }
   }
  }
 ],
 "metadata": {
  "kernelspec": {
   "display_name": "Python 3",
   "language": "python",
   "name": "python3"
  },
  "language_info": {
   "codemirror_mode": {
    "name": "ipython",
    "version": 2
   },
   "file_extension": ".py",
   "mimetype": "text/x-python",
   "name": "python",
   "nbconvert_exporter": "python",
   "pygments_lexer": "ipython2",
   "version": "2.7.6"
  }
 },
 "nbformat": 4,
 "nbformat_minor": 0
}