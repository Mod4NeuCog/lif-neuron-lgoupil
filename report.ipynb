{
 "cells": [
  {
   "cell_type": "markdown",
   "source": [
    "# Report for the object oriented programming of the neuron classes"
   ],
   "metadata": {
    "collapsed": false,
    "pycharm": {
     "name": "#%% md\n"
    }
   }
  },
  {
   "cell_type": "markdown",
   "source": [
    "### Let's define the \"mother\" class from which every child class is going to inherit"
   ],
   "metadata": {
    "collapsed": false,
    "pycharm": {
     "name": "#%% md\n"
    }
   }
  },
  {
   "cell_type": "code",
   "execution_count": 2,
   "outputs": [],
   "source": [
    "import numpy as np\n",
    "\n",
    "class NeuronalCell:\n",
    "    def __init__(self):\n",
    "        self.dendriteCompartmentNumber = 1\n",
    "        self.membranePotential = 0.\n",
    "        self.weights = np.random.uniform(0, 1, self.dendriteCompartmentNumber)\n",
    "\n",
    "    def get_potential(self):\n",
    "        return \"honk\"\n",
    "\n",
    "    def compute_potential(self):\n",
    "        return \"honk honk\"\n",
    "\n",
    "    def set_potential(self, new_potential=float):\n",
    "        self.membranePotential = new_potential\n"
   ],
   "metadata": {
    "collapsed": false,
    "pycharm": {
     "name": "#%%\n"
    }
   }
  },
  {
   "cell_type": "markdown",
   "source": [
    "### Now that we have the parent class, let's define the child classes\n"
   ],
   "metadata": {
    "collapsed": false,
    "pycharm": {
     "name": "#%% md\n"
    }
   }
  },
  {
   "cell_type": "code",
   "execution_count": 3,
   "outputs": [],
   "source": [
    "class PyramidalCell(NeuronalCell):\n",
    "    def __init__(self):\n",
    "        super(PyramidalCell, self).__init__()\n",
    "        self.direction = 1\n",
    "\n",
    "    def integrate_dendritic_spines(self, dendritic_spines_input):\n",
    "        return np.dot(self.weights, dendritic_spines_input)\n",
    "\n"
   ],
   "metadata": {
    "collapsed": false,
    "pycharm": {
     "name": "#%%\n"
    }
   }
  },
  {
   "cell_type": "code",
   "execution_count": 4,
   "outputs": [],
   "source": [
    "class GranuleCell(NeuronalCell):\n",
    "    def __init__(self):\n",
    "        super(GranuleCell, self).__init__()\n",
    "        self.cell_body_size = 20.\n",
    "\n",
    "    def get_mossy_fiber_input(self, inputs):\n",
    "        return self.cell_body_size*np.dot(self.weights, inputs)"
   ],
   "metadata": {
    "collapsed": false,
    "pycharm": {
     "name": "#%%\n"
    }
   }
  },
  {
   "cell_type": "markdown",
   "source": [
    "This code can be represented with UML with a diagram as such:"
   ],
   "metadata": {
    "collapsed": false,
    "pycharm": {
     "name": "#%% md\n"
    }
   }
  },
  {
   "cell_type": "markdown",
   "source": [
    "![](Capture.PNG)"
   ],
   "metadata": {
    "collapsed": false,
    "pycharm": {
     "name": "#%% md\n"
    }
   }
  },
  {
   "cell_type": "code",
   "execution_count": null,
   "outputs": [],
   "source": [],
   "metadata": {
    "collapsed": false,
    "pycharm": {
     "name": "#%%\n"
    }
   }
  }
 ],
 "metadata": {
  "kernelspec": {
   "display_name": "Python 3",
   "language": "python",
   "name": "python3"
  },
  "language_info": {
   "codemirror_mode": {
    "name": "ipython",
    "version": 2
   },
   "file_extension": ".py",
   "mimetype": "text/x-python",
   "name": "python",
   "nbconvert_exporter": "python",
   "pygments_lexer": "ipython2",
   "version": "2.7.6"
  }
 },
 "nbformat": 4,
 "nbformat_minor": 0
}