{
 "cells": [
  {
   "cell_type": "code",
   "execution_count": 4,
   "outputs": [],
   "source": [
    "import numpy as np"
   ],
   "metadata": {
    "collapsed": false,
    "pycharm": {
     "name": "#%%\n"
    }
   }
  },
  {
   "cell_type": "code",
   "execution_count": 26,
   "outputs": [],
   "source": [
    "class MDP:\n",
    "    def __init__(self, nb_questions=4, win_probas=[9/10, 3/4, 1/2, 1/10], reward=[100,500,10000,50000]):\n",
    "        self.nb_questions = nb_questions\n",
    "        self.play_probs = win_probas\n",
    "        self.rewards = reward\n",
    "\n",
    "    def call_action(self, question):\n",
    "        return self.rewards[question]*np.random.binomial(1, self.play_probs[question], 1)\n",
    "\n",
    "    def call_q(self, question):\n",
    "\n",
    "\n",
    "class Agent:\n",
    "    def __init__(self, environment, gamma=0.9):\n",
    "        self.gamma = gamma  # The discount factor\n",
    "        self.question = 0   # The rank of the question\n",
    "        self.won = False\n",
    "        self.lost = False\n",
    "        self.summed_reward = 0\n",
    "        self.env = environment\n",
    "        print(\"Welcome to the game! You are at question 1. Do you play?\")\n",
    "\n",
    "    def play(self):\n",
    "        if not self.lost:\n",
    "            immediate_reward = self.env.call_action(self.question)\n",
    "            self.summed_reward += immediate_reward\n",
    "            if immediate_reward == 0:\n",
    "                self.lost = True\n",
    "                print(\"You lost :( \\n   You exit the game with a gain of {}\".format(self.summed_reward))\n",
    "            elif self.question==self.env.nb_questions:\n",
    "                print(\"Congratulations, you won!! :) \\n   Your total gains amount to {}\".format(self.summed_reward))\n",
    "            else:\n",
    "                self.question += 1\n",
    "                print(\"You passed! You are now at question {}. \\n   Your total gains are {}\".format(self.question+1, self.summed_reward))\n",
    "        else:\n",
    "            print(\"Bro the game is over... Take your {} euros and go home now.\".format(self.summed_reward))\n",
    "\n",
    "    def quit(self):\n",
    "        if not self.won:\n",
    "            self.lost = True\n"
   ],
   "metadata": {
    "collapsed": false,
    "pycharm": {
     "name": "#%%\n"
    }
   }
  },
  {
   "cell_type": "code",
   "execution_count": 38,
   "outputs": [
    {
     "name": "stdout",
     "output_type": "stream",
     "text": [
      "Welcome to the game! You are at question 1. Do you play?\n"
     ]
    }
   ],
   "source": [
    "environment = MDP()\n",
    "agent = Agent(environment)"
   ],
   "metadata": {
    "collapsed": false,
    "pycharm": {
     "name": "#%%\n"
    }
   }
  },
  {
   "cell_type": "code",
   "execution_count": 39,
   "outputs": [
    {
     "name": "stdout",
     "output_type": "stream",
     "text": [
      "You passed! You are now at question 2. \n",
      "   Your total gains are [100]\n"
     ]
    }
   ],
   "source": [
    "agent.play()"
   ],
   "metadata": {
    "collapsed": false,
    "pycharm": {
     "name": "#%%\n"
    }
   }
  },
  {
   "cell_type": "code",
   "execution_count": null,
   "outputs": [],
   "source": [],
   "metadata": {
    "collapsed": false,
    "pycharm": {
     "name": "#%%\n"
    }
   }
  }
 ],
 "metadata": {
  "kernelspec": {
   "display_name": "Python 3",
   "language": "python",
   "name": "python3"
  },
  "language_info": {
   "codemirror_mode": {
    "name": "ipython",
    "version": 2
   },
   "file_extension": ".py",
   "mimetype": "text/x-python",
   "name": "python",
   "nbconvert_exporter": "python",
   "pygments_lexer": "ipython2",
   "version": "2.7.6"
  }
 },
 "nbformat": 4,
 "nbformat_minor": 0
}